{
 "cells": [
  {
   "cell_type": "markdown",
   "id": "94b6bbbf-df83-4ecb-9bf4-026dd96ddd0a",
   "metadata": {},
   "source": [
    "1. If you are rolling five dice, implement a Monte Carlo method to determine if the probability that the sum of the faces showing up is equal to 16 is bigger than the probability that the sum of the faces showing up is equal to 20."
   ]
  },
  {
   "cell_type": "code",
   "execution_count": 1,
   "id": "509db810-b544-41d2-bde8-7f5a4a3f6b1e",
   "metadata": {},
   "outputs": [],
   "source": [
    "import random"
   ]
  },
  {
   "cell_type": "code",
   "execution_count": 2,
   "id": "53341f68-d0b9-44f1-afbf-31d2d17b9899",
   "metadata": {},
   "outputs": [],
   "source": [
    "def monte_carlo(n):\n",
    "    prob_16=0\n",
    "    prob_20=0\n",
    "    probability_16 = []\n",
    "    probability_20 = []\n",
    "    for i in range(n): #number of times to run the simulation\n",
    "        dice=[]\n",
    "        for j in range(5): #runs for 5 dice \n",
    "            roll=random.randint(1,6) #choose a number 1 through 6 \n",
    "            dice.append(roll) #add to dice faces\n",
    "        if sum(dice)== 16: #counts if the sum of the dice equal 16 \n",
    "             prob_16 +=1\n",
    "        elif sum(dice)== 20: #counts if the sum of the dice equal 20\n",
    "            prob_20 +=1\n",
    "        else: \n",
    "            pass\n",
    "        probability_16.append(prob_16/(i+1)) #finds the total probabailty \n",
    "        probability_20.append(prob_20/(i+1))  #finds the total probabailty \n",
    "    print(f'Probabilty of faces adding to 16: {probability_16[i]}')\n",
    "    print(f'Probabilty of faces adding to 20: {probability_20[i]}')\n",
    "    if probability_16[i] > probability_20[i]: \n",
    "        print('Probaility of 16 is greater then 20')\n",
    "    else: \n",
    "        print('Probaility of 20 is greater then 16')"
   ]
  },
  {
   "cell_type": "code",
   "execution_count": 3,
   "id": "40bccff1-707a-4485-9456-7b6005527211",
   "metadata": {},
   "outputs": [
    {
     "name": "stdout",
     "output_type": "stream",
     "text": [
      "Probabilty of faces adding to 16: 0.094253\n",
      "Probabilty of faces adding to 20: 0.083662\n",
      "Probaility of 16 is greater then 20\n"
     ]
    }
   ],
   "source": [
    "monte_carlo(1000000)"
   ]
  },
  {
   "cell_type": "markdown",
   "id": "4e58aae3-bdc0-4aa6-a44e-19923b472587",
   "metadata": {},
   "source": [
    "2. You're about to get on a plane to Seattle. You want to know whether it is raining. You call four random friends who live there and ask each one independently if it's raining. The first two of your friends have a 3/4 chance of telling you the truth, and the other two have a 1/2 chance of messing with you by lying. All four friends tell you that \"No\" it isn't raining. What is the probability that it's raining somewhere in Seattle? You will write code to determine this probability experimentally via Monte Carlo simulations."
   ]
  },
  {
   "cell_type": "code",
   "execution_count": 4,
   "id": "6dde729a-e72f-48fd-93b4-92a946d5b944",
   "metadata": {},
   "outputs": [],
   "source": [
    "def seattle(n):\n",
    "    sit=0\n",
    "    count=[]\n",
    "    for i in range(n): #number of times to run the simulation\n",
    "        lie=0\n",
    "        for j in range(2): #first two friends \n",
    "            friend=random.randint(1,100)\n",
    "            if friend>75: #there is a 25% percent chance of a lie\n",
    "                lie+=1\n",
    "        for k in range(2): #remaining friends\n",
    "            friend=random.randint(1,100)\n",
    "            if friend>50: #there is a 50% percent chance of a lie\n",
    "                lie+=1\n",
    "        if lie==4: #condition of all 4 lieing\n",
    "            sit+=1\n",
    "            count.append(sit/(i+1)) #probabailty of event\n",
    "        else: \n",
    "            pass\n",
    "    print(f'Probabilty it is raining: {count[-1]}')"
   ]
  },
  {
   "cell_type": "code",
   "execution_count": 5,
   "id": "f913c1b4-9cda-43d9-a250-7fcb3bf7fc30",
   "metadata": {},
   "outputs": [
    {
     "name": "stdout",
     "output_type": "stream",
     "text": [
      "Probabilty it is raining: 0.015464154641546416\n"
     ]
    }
   ],
   "source": [
    "seattle(1000000)"
   ]
  },
  {
   "cell_type": "markdown",
   "id": "01c940e9-79b6-4211-b532-b2f2adea164a",
   "metadata": {},
   "source": [
    "3. A person wants to travel by car from New York to Dallas by the shortest possible route. The person may travel over the routes shown in the table below. Unfortunately, bad weather and traffic can block certain roads. Suppose bad weather has 0.7 chance of blocking the road from Atlanta to New Orleans and 0.4 chance of blocking the road from Nashville to Saint Louis. Suppose also that if one road is blocked, the alternative route to the next city is available.\n",
    "The person will not know which roads have been blocked until arrives at Atlanta or Nashville. Should the person start toward Atlanta or Nashville?"
   ]
  },
  {
   "cell_type": "markdown",
   "id": "a96f07f6-c949-4314-8faa-4fac7e712584",
   "metadata": {},
   "source": [
    "Route  Length of Route (miles)\n",
    "New York - Atlanta 866\n",
    "New York - Nashville 900\n",
    "Nashville - St. Louis 309\n",
    "Nashville - New Orleans 532\n",
    "Atlanta - St. Louis 555\n",
    "Atlanta - New Orleans 470\n",
    "St. Louis - Dallas 662\n",
    "New Orleans - Dallas 505"
   ]
  },
  {
   "cell_type": "code",
   "execution_count": 6,
   "id": "172b3df1-c8cc-4371-bcc7-4a282117550c",
   "metadata": {},
   "outputs": [],
   "source": [
    "route={'New York - Atlanta': 866,  'New York - Nashville': 900, 'Nashville - St. Louis': 309, 'Nashville - New Orleans': 532, 'Atlanta - St. Louis': 555,  'Atlanta - New Orleans': 470, 'St. Louis - Dallas': 662, 'New Orleans - Dallas': 505}"
   ]
  },
  {
   "cell_type": "code",
   "execution_count": 7,
   "id": "17539ff6-f399-4322-8e6b-3ef9f1fdc06b",
   "metadata": {},
   "outputs": [
    {
     "data": {
      "text/plain": [
       "{'New York - Atlanta': 866,\n",
       " 'New York - Nashville': 900,\n",
       " 'Nashville - St. Louis': 309,\n",
       " 'Nashville - New Orleans': 532,\n",
       " 'Atlanta - St. Louis': 555,\n",
       " 'Atlanta - New Orleans': 470,\n",
       " 'St. Louis - Dallas': 662,\n",
       " 'New Orleans - Dallas': 505}"
      ]
     },
     "execution_count": 7,
     "metadata": {},
     "output_type": "execute_result"
    }
   ],
   "source": [
    "route"
   ]
  },
  {
   "cell_type": "code",
   "execution_count": 8,
   "id": "889a894b-bdc7-407b-87ad-b0d2b120364d",
   "metadata": {},
   "outputs": [],
   "source": [
    "def avg_travel_atl(n): #calualte average miles traveled through Atlanta\n",
    "    travel=0\n",
    "    avg_travel=[]\n",
    "    for i in range(n): #number of simulations\n",
    "        travel+=route['New York - Atlanta'] #miles from new york to atlanta\n",
    "        block=random.randint(1,10) #check for road block\n",
    "        if block>7: #if not blocked\n",
    "            travel+=route['Atlanta - New Orleans']\n",
    "            travel+=route['New Orleans - Dallas']\n",
    "        else: #if blocked \n",
    "            travel+=route['Atlanta - St. Louis']\n",
    "            travel+=route['St. Louis - Dallas']\n",
    "        avg_travel.append(travel/(i+1)) #average number of miles per trip\n",
    "    print(f'Average # of miles traveled through Atlanta: {avg_travel[-1]}')\n",
    "    return avg_travel[-1]"
   ]
  },
  {
   "cell_type": "code",
   "execution_count": 9,
   "id": "437b552e-b6b9-483a-b95a-a706659a9256",
   "metadata": {},
   "outputs": [],
   "source": [
    "def avg_travel_nash(n): #calualte average miles traveled through Atlanta\n",
    "    travel=0\n",
    "    avg_travel=[]\n",
    "    for i in range(n): #number of simulations\n",
    "        travel+=route['New York - Nashville'] #miles from new york to nashville\n",
    "        block=random.randint(1,10)\n",
    "        if block>4: #check for road block\n",
    "            travel+=route['Nashville - St. Louis']\n",
    "            travel+=route['St. Louis - Dallas']\n",
    "        else: #if blocked\n",
    "            travel+=route['Nashville - New Orleans']\n",
    "            travel+=route['New Orleans - Dallas']\n",
    "        avg_travel.append(travel/(i+1))  #average number of miles per trip\n",
    "    print(f'Average # of miles traveled through Nashville: {avg_travel[-1]}')\n",
    "    return avg_travel[-1]"
   ]
  },
  {
   "cell_type": "code",
   "execution_count": 10,
   "id": "dd384cd3-eede-42c3-9d73-98124444002d",
   "metadata": {},
   "outputs": [
    {
     "name": "stdout",
     "output_type": "stream",
     "text": [
      "Average # of miles traveled through Atlanta: 2010.45445\n",
      "Average # of miles traveled through Nashville: 1897.435706\n",
      "The people should travel through Nashville\n"
     ]
    }
   ],
   "source": [
    "atl=avg_travel_atl(1000000)\n",
    "nash=avg_travel_nash(1000000)\n",
    "if atl>nash:\n",
    "    print(\"The people should travel through Nashville\")\n",
    "else: \n",
    "    print(\"The people should travel through Atlanta\")"
   ]
  },
  {
   "cell_type": "markdown",
   "id": "d7b5ba27-23e5-4251-8b67-b19807b23823",
   "metadata": {},
   "source": [
    "   4. Assume we play a different version of the original Monte Hall problem, such as having four doors, one car, and three goats. The game's rules are the same: the contestant chooses one door (that remains closed), and one of the other doors with a goat behind it is opened. The contestant must stick with the original intention or switch to one of the remaining closed doors, picking randomly between the two remaining ones. Write a Python code for each option to approximate the winning probabilities using Monte Carlo simulations. Use Monte Carlo simulations to evaluate the probability that the contestant will ultimately win by randomly switching between the two other unopened doors."
   ]
  },
  {
   "cell_type": "code",
   "execution_count": 11,
   "id": "dd2110d1-8679-46f3-bf88-8e027f6bb0c6",
   "metadata": {},
   "outputs": [],
   "source": [
    "# here we program the actual Monte Carlo Simulation\n",
    "doors = [\"goat\", \"goat\", \"goat\", \"car\"] #set number of doors\n",
    "def monty_hall(n):\n",
    "    win=0\n",
    "    st_win=0\n",
    "    count=[]\n",
    "    st_count=[]\n",
    "    for i in range(n): #run number of simulations\n",
    "        random.shuffle(doors) #move around car\n",
    "        pick=random.randrange(4) #pick 1 door\n",
    "        open_doors=[i for i in range(4) if i !=pick and doors[i] !='car'] #remaining doors not choosen and goat\n",
    "        host_pick=random.choice(open_doors) #host door to open \n",
    "        remain=[i for i in range(4) if i !=pick and i !=host_pick] #unopened doors\n",
    "        switch=random.choice(remain) #pick from remaining doors \n",
    "        if doors[switch]=='car': #if remaining door pick car\n",
    "            win+=1\n",
    "            count.append(win/(i+1)) #probabilty calulation \n",
    "    for i in range(n):\n",
    "        random.shuffle(doors) #move around car\n",
    "        pick=random.randrange(4) #pick 1 door \n",
    "        if doors[pick]=='car': #if correct door is choosen win \n",
    "            st_win+=1\n",
    "            st_count.append(st_win/(i+1)) #probabilty calulation      \n",
    "    print(f'Win Probabilty with Swithcing to a New Door: {count[-1]}')\n",
    "    print(f'Win Probabilty with Sticking to a Door: {st_count[-1]}')"
   ]
  },
  {
   "cell_type": "code",
   "execution_count": 12,
   "id": "05d842a4-ecbb-4e5f-b722-e91b9e204c49",
   "metadata": {},
   "outputs": [
    {
     "name": "stdout",
     "output_type": "stream",
     "text": [
      "Win Probabilty with Swithcing to a New Door: 0.37424549698198795\n",
      "Win Probabilty with Sticking to a Door: 0.249857\n"
     ]
    }
   ],
   "source": [
    "monty_hall(1000000)"
   ]
  }
 ],
 "metadata": {
  "kernelspec": {
   "display_name": "Python 3 (ipykernel)",
   "language": "python",
   "name": "python3"
  },
  "language_info": {
   "codemirror_mode": {
    "name": "ipython",
    "version": 3
   },
   "file_extension": ".py",
   "mimetype": "text/x-python",
   "name": "python",
   "nbconvert_exporter": "python",
   "pygments_lexer": "ipython3",
   "version": "3.12.9"
  }
 },
 "nbformat": 4,
 "nbformat_minor": 5
}
